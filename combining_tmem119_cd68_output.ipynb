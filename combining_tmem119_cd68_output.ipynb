{
 "cells": [
  {
   "cell_type": "code",
   "execution_count": 1,
   "id": "understanding-confusion",
   "metadata": {},
   "outputs": [],
   "source": [
    "import numpy as np\n",
    "import pandas as pd\n",
    "import os"
   ]
  },
  {
   "cell_type": "code",
   "execution_count": 2,
   "id": "short-sponsorship",
   "metadata": {},
   "outputs": [],
   "source": [
    "files = os.listdir()\n",
    "csvs = [file for file in files if '.csv' in file]"
   ]
  },
  {
   "cell_type": "code",
   "execution_count": 3,
   "id": "rocky-shanghai",
   "metadata": {},
   "outputs": [],
   "source": [
    "cd68 = pd.read_csv(csvs[1])['Mean'][2]\n",
    "tmem = pd.read_csv(csvs[1])['Mean'][3]"
   ]
  },
  {
   "cell_type": "code",
   "execution_count": 4,
   "id": "demonstrated-stations",
   "metadata": {},
   "outputs": [],
   "source": [
    "cd68 = []\n",
    "tmem = []\n",
    "animal = []\n",
    "img_num = []\n",
    "for file in csvs:\n",
    "    #print(file)\n",
    "    animal = np.append(animal, file.split('_')[0])\n",
    "    img_num = np.append(img_num, file.split('_')[1])\n",
    "    try:\n",
    "        cd68 = np.append(cd68, pd.read_csv(file)['Mean'][2])\n",
    "        tmem = np.append(tmem, pd.read_csv(file)['Mean'][3])\n",
    "    except:\n",
    "        cd68 = np.append(cd68, 0)\n",
    "        tmem = np.append(tmem, 0)"
   ]
  },
  {
   "cell_type": "code",
   "execution_count": 5,
   "id": "distinguished-forward",
   "metadata": {},
   "outputs": [],
   "source": [
    "output = pd.DataFrame(index = csvs, data = cd68)\n",
    "output['animal'] = animal\n",
    "output['img_num'] = img_num\n",
    "output['tmem'] = tmem"
   ]
  },
  {
   "cell_type": "code",
   "execution_count": 7,
   "id": "floral-trademark",
   "metadata": {},
   "outputs": [],
   "source": [
    "output.to_csv('output_by_image_cd68_tmem.csv')"
   ]
  },
  {
   "cell_type": "code",
   "execution_count": 17,
   "id": "vocational-desert",
   "metadata": {},
   "outputs": [
    {
     "name": "stderr",
     "output_type": "stream",
     "text": [
      "c:\\programdata\\pymol\\lib\\site-packages\\ipykernel_launcher.py:1: FutureWarning: Indexing with multiple keys (implicitly converted to a tuple of keys) will be deprecated, use a list instead.\n",
      "  \"\"\"Entry point for launching an IPython kernel.\n"
     ]
    }
   ],
   "source": [
    "output.groupby('animal')['tmem', 0].mean().to_csv('grouped_output_by_animal_cd68_tmem.csv')"
   ]
  },
  {
   "cell_type": "code",
   "execution_count": null,
   "id": "separate-sandwich",
   "metadata": {},
   "outputs": [],
   "source": []
  }
 ],
 "metadata": {
  "kernelspec": {
   "display_name": "Python 3",
   "language": "python",
   "name": "python3"
  },
  "language_info": {
   "codemirror_mode": {
    "name": "ipython",
    "version": 3
   },
   "file_extension": ".py",
   "mimetype": "text/x-python",
   "name": "python",
   "nbconvert_exporter": "python",
   "pygments_lexer": "ipython3",
   "version": "3.7.9"
  }
 },
 "nbformat": 4,
 "nbformat_minor": 5
}
